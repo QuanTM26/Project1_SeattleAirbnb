{
 "cells": [
  {
   "cell_type": "markdown",
   "metadata": {},
   "source": [
    "# **AIRBNB - How to find the best price for vacation rental in Seattle**"
   ]
  },
  {
   "cell_type": "markdown",
   "metadata": {},
   "source": [
    "### A data based approach using a part of the Airbnb Inside, particularly the listing activity of homestays in Seattle from [Kaggle.com](https://www.kaggle.com/airbnb/seattle)"
   ]
  },
  {
   "cell_type": "markdown",
   "metadata": {},
   "source": [
    "---"
   ]
  },
  {
   "cell_type": "markdown",
   "metadata": {},
   "source": [
    "### **Introduction**"
   ]
  },
  {
   "cell_type": "markdown",
   "metadata": {},
   "source": [
    "![image](airbnb.png)\n",
    "\n",
    "Airbnb is shortened for AirBedandBreakfast which is also an online platform that connects the visitors (people who is travelling and finding a place to stay) with the hosts (the owners of the place for renting) from almost around the world. Despite not owning any properties of the hosts, Airbnb can still make profit by receiving commission from each booking.\n",
    "\n",
    "Link for reference: [Airbnb wikipedia](https://en.wikipedia.org/wiki/Airbnb)"
   ]
  },
  {
   "cell_type": "markdown",
   "metadata": {},
   "source": [
    "With regards to travelling, there will be many aspects that you would need to consider such as: time, places to visits, where to stay and the cost for the trip... And definitely the cost could be considered as one of the most important things to have a good vacation. Then how to manage the cost?\n",
    "\n",
    "I'm pretty sure that there are so many things that you can think about to control the cost for your vacation. However, it seems to me that controlling the cost for vacation rental (places you would like to stay during holiday) would be the easiest way to reduce or get the most appropriate total cost. Therefore, being aware of the homestay's price through seasons or even some aspects that could cause the price higher will help you have a good decision for your desired vacation.\n",
    "\n",
    "For the reason above, it's worth to go over the data from the listing activity of homestays in Seattle in order to have some answers for our considerations.\n",
    "\n",
    ">#### Content\n",
    ">The following Airbnb activity is included in this Seattle dataset:\n",
    "> - Listings, including full descriptions and average review score\n",
    "> - Reviews, including unique id for each reviewer and detailed comments\n",
    "> - Calendar, including listing id and the price and availability for that day"
   ]
  },
  {
   "cell_type": "markdown",
   "metadata": {},
   "source": [
    "#### **Part I: How does the price change by seasons?**"
   ]
  },
  {
   "cell_type": "markdown",
   "metadata": {},
   "source": [
    "We cannot deny that choosing a suitable time for vacation could make it a good one. Especially from the chart below, you can clearly see there's a significant difference in the availability as well as the average price of hotels/homestay/apartments... among months."
   ]
  },
  {
   "cell_type": "markdown",
   "metadata": {},
   "source": [
    "![PriceBySeasons](PricebySeasons.png)"
   ]
  },
  {
   "cell_type": "markdown",
   "metadata": {},
   "source": [
    "At first, the chart shows us that the demand rapidly increases in the first quarter and reaches the top in March. This thing indicates that there's a big change in the early of year, people start to travel after a period of time. The availability of hosts increases by nearly 30% in March. That also explains the strong increase in the average price of homestay/apartments... It increases approximately 30% (from \\\\$70 to $91) in detail. \n",
    "\n",
    "The host's availabity starts slightly dropping in mid-year (in June) which is the ideal time for people who don't like crowed place to enjoy holiday. On the other hand, this time will not be the best choice if you would like to get reasonable price. The chart also shows that the price almost reaches the top one in June - the average price per accommodation is nearly $100. And there are not so much changes in price afterwards.\n",
    "\n",
    "The top average price and availability time are both at the end of the year (in December). It indicates people tend to travel in this time (Christmas, New Year's Eve...) and it also the best time for hosts to increase the rental price for more profit."
   ]
  },
  {
   "cell_type": "markdown",
   "metadata": {},
   "source": [
    "#### **Part II: What will be the factors that make the price higher?**"
   ]
  },
  {
   "cell_type": "markdown",
   "metadata": {},
   "source": [
    "There will be many related factors that can affect to the rental price. As in the first question, you can easily see that the host's availability can be considered as one of those factors. How about the others? In the chart below, you will see the general correlation of some main factors with the price:"
   ]
  },
  {
   "cell_type": "markdown",
   "metadata": {},
   "source": [
    "![PriceCorrelation](PriceCorrelation.png)"
   ]
  },
  {
   "cell_type": "markdown",
   "metadata": {},
   "source": [
    "The bar chart above shows us the 4 main factors that affect the most to the rental price such as: Accommodates, number of bedrooms, bathrooms and beds. With the scale from 0 to 1 for the correlation with the price, those factors reach the point of 0.5 and above. And that indicates they all have strong affection with the rental price.  \n",
    "\n",
    "The below scatter chart will describe how they affect to the price in detail:"
   ]
  },
  {
   "cell_type": "markdown",
   "metadata": {},
   "source": [
    "![TopFeatures](TopFeatures.png)"
   ]
  },
  {
   "cell_type": "markdown",
   "metadata": {},
   "source": [
    "These 4 factors above have certain affection to the change of rental price. The number of them will clearly define the range of price for rent. The more rooms they have, the higher price they show. For example, an apartment that has only 1 bedroom will have a range of price almost from $50 to $400; however, an apartment with 5 bedrooms will have a range of price almost from $200 to $600. Therefore, a suitable choice of the quantity of rooms needed can help you have a reasonable price for your vacation."
   ]
  },
  {
   "cell_type": "markdown",
   "metadata": {},
   "source": [
    "#### **Part III: Will there be an affection to the price if that homestay/apartments get more reviews?**"
   ]
  },
  {
   "cell_type": "markdown",
   "metadata": {},
   "source": [
    "In this section, I wondered if there might be an affection to the price by the number of reviews. Will a homestay/apartment that get more reviews have higher price compared to the others and vice versa?\n",
    "\n",
    "To figure out the answer for the question above, I'm using the scatter chart below to see the affection of them with classified type of property:"
   ]
  },
  {
   "cell_type": "markdown",
   "metadata": {},
   "source": [
    "![ReviewVsPrice](ReviewVsPrice.png)"
   ]
  },
  {
   "cell_type": "markdown",
   "metadata": {},
   "source": [
    "The chart shows that most of the reviews are written for Apartment, House and Cabin. That also means people tend to rent these three kind of properties for their vacation. And they're extremely interested in the place with the range of price from $50 to $300. The number of people significantly decreases when the rental price goes up.\n",
    "\n",
    "From here, we can emphasize it's not necessary for the hosts to get more reviews for their homestay/apartment to increase the rental price. In short, we find that there's no correlation between the price and the number of reviews."
   ]
  },
  {
   "cell_type": "markdown",
   "metadata": {},
   "source": [
    "#### **Conclusion** "
   ]
  },
  {
   "cell_type": "markdown",
   "metadata": {},
   "source": [
    "In this article, we took a look at how to find the best price for vacation rental in Seattle according to the data of the listing activity of homestays in Seattle.\n",
    "\n",
    "1. We aggregate the data to see how the price is affected by seasons and it shows that the demand rapidly increases in the first quarter, the host's availabity starts slightly dropping and the price almost reaches the top one in mid-year. The top average price and availability time are both at the end of the year. \n",
    "\n",
    "2. We looked at the factors that will make the price higher and it shows that 4 these main factors: Accommodates, number of bedrooms, bathrooms and beds will clearly define the range of price for rent. Once again, a suitable choice of the quantity of rooms needed can help you have a reasonable price for your vacation.\n",
    "\n",
    "3. Finally, we looked at the homestay/apartment's reviews to verify if it can make the price higher and we can conlude it's not necessary for the hosts to get more reviews for their homestay/apartment to increase the rental price and there's no correlation between the price and the number of reviews."
   ]
  }
 ],
 "metadata": {
  "kernelspec": {
   "display_name": "Python 3",
   "language": "python",
   "name": "python3"
  },
  "language_info": {
   "codemirror_mode": {
    "name": "ipython",
    "version": 3
   },
   "file_extension": ".py",
   "mimetype": "text/x-python",
   "name": "python",
   "nbconvert_exporter": "python",
   "pygments_lexer": "ipython3",
   "version": "3.7.3"
  }
 },
 "nbformat": 4,
 "nbformat_minor": 4
}
